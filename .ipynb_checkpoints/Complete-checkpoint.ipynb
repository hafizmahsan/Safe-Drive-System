{
 "cells": [
  {
   "cell_type": "markdown",
   "id": "ca46105a",
   "metadata": {},
   "source": [
    "Location Function"
   ]
  },
  {
   "cell_type": "code",
   "execution_count": 19,
   "id": "988f90bb",
   "metadata": {},
   "outputs": [],
   "source": [
    "def tracker():\n",
    "    import requests\n",
    "\n",
    "    r = requests.get('https://get.geojs.io/')\n",
    "\n",
    "    ip_request = requests.get('https://get.geojs.io/v1/ip.json')\n",
    "\n",
    "    ipAdd = ip_request.json()['ip']\n",
    "    \n",
    "    url = 'https://get.geojs.io/v1/ip/geo/' + ipAdd + '.json'\n",
    "\n",
    "    geo_request= requests.get(url)\n",
    "    geo_data = geo_request.json()\n",
    "\n",
    "    return \"IP \" + geo_data['ip'] + \" Latitude \" + geo_data['latitude'] + \" Longitude \" + geo_data['longitude'] + \" City \" + geo_data['city'] + \" Region \" + geo_data['region'] + \" Country \" + geo_data['country'] + \" Timezone \" + geo_data['timezone']"
   ]
  },
  {
   "cell_type": "markdown",
   "id": "7f8dd2ea",
   "metadata": {},
   "source": [
    "Email Function"
   ]
  },
  {
   "cell_type": "code",
   "execution_count": 21,
   "id": "3e7b99dc",
   "metadata": {},
   "outputs": [],
   "source": [
    "def sendemail():\n",
    "    data= tracker()\n",
    "    import smtplib\n",
    "    from email.message import EmailMessage\n",
    "    from email.mime.base import MIMEBase\n",
    "    from email.mime.text import MIMEText\n",
    "    from email.mime.multipart import MIMEMultipart\n",
    "    from email import encoders\n",
    "    from email.encoders import encode_base64\n",
    "    \n",
    "    msg = MIMEMultipart()\n",
    "    msg['Subject']  = \"Subject\" # email subject line\n",
    "    msg['From'] = 'From' # adding the name from email is received\n",
    "    msg['To'] = 'Email' # email id you want to send the email to\n",
    "\n",
    "    body = data\n",
    "    msg.attach(MIMEText(body, 'plain'))\n",
    "\n",
    "    filename = 'filepath and name' # complete file path and name\n",
    "    attachment = open(filename, \"rb\")\n",
    "    p = MIMEBase('application', 'octet-stream')\n",
    "# Changing the payload into encoded form\n",
    "    p.set_payload((attachment).read())\n",
    "# encoding into base64\n",
    "    encoders.encode_base64(p)\n",
    "\n",
    "    p.add_header('Content-Disposition', \"attachment; filename = %s\" % filename)\n",
    "\n",
    "# Attach the instance p to instance message\n",
    "\n",
    "    msg.attach(p)\n",
    "\n",
    "# Convert the multipart message into string\n",
    "\n",
    "    text = msg.as_string()\n",
    "    \n",
    "    server = smtplib.SMTP_SSL('smtp.gmail.com', 465)\n",
    "    server.login(\"email\", \"password\") # adding email and password to sent the email\n",
    "    \n",
    "    server.send_message(msg)\n",
    "    server.quit()\n",
    "    \n",
    "    print(\"Email Sent\")"
   ]
  },
  {
   "cell_type": "code",
   "execution_count": 22,
   "id": "eda2fce4",
   "metadata": {},
   "outputs": [],
   "source": [
    "# sendemail()"
   ]
  },
  {
   "cell_type": "code",
   "execution_count": 23,
   "id": "b27c8e1d",
   "metadata": {},
   "outputs": [],
   "source": [
    "# Loading Libraries\n",
    "\n",
    "import cv2\n",
    "import os\n",
    "from keras.models import load_model\n",
    "import numpy as np\n",
    "from pygame import mixer\n",
    "import time"
   ]
  },
  {
   "cell_type": "code",
   "execution_count": 24,
   "id": "d03366b2",
   "metadata": {},
   "outputs": [],
   "source": [
    "# Loading and getting alarm file to generate the alarm\n",
    "\n",
    "mixer.init()\n",
    "sound = mixer.Sound('alarm.wav')"
   ]
  },
  {
   "cell_type": "code",
   "execution_count": 25,
   "id": "7dd13861",
   "metadata": {},
   "outputs": [],
   "source": [
    "# Loading HaarCascade Files\n",
    "\n",
    "face = cv2.CascadeClassifier('haar cascade files\\haarcascade_frontalface_alt.xml')\n",
    "leye = cv2.CascadeClassifier('haar cascade files\\haarcascade_lefteye_2splits.xml')\n",
    "reye = cv2.CascadeClassifier('haar cascade files\\haarcascade_righteye_2splits.xml')"
   ]
  },
  {
   "cell_type": "code",
   "execution_count": 26,
   "id": "12e18326",
   "metadata": {},
   "outputs": [],
   "source": [
    "lbl=['Close','Open']\n",
    "\n",
    "model = load_model('models/cnncat2.h5') # Loading Model\n",
    "path = os.getcwd()\n",
    "cap = cv2.VideoCapture(0)\n",
    "font = cv2.FONT_HERSHEY_COMPLEX_SMALL\n",
    "count=0\n",
    "score=0\n",
    "thicc=2\n",
    "rpred=[99]\n",
    "lpred=[99]"
   ]
  },
  {
   "cell_type": "code",
   "execution_count": 27,
   "id": "cb14c3b2",
   "metadata": {},
   "outputs": [
    {
     "name": "stdout",
     "output_type": "stream",
     "text": [
      "Email Sent\n",
      "Email Sent\n"
     ]
    }
   ],
   "source": [
    "while(True):\n",
    "    ret, frame = cap.read()\n",
    "    height,width = frame.shape[:2] \n",
    "\n",
    "    gray = cv2.cvtColor(frame, cv2.COLOR_BGR2GRAY)\n",
    "    \n",
    "    faces = face.detectMultiScale(gray,minNeighbors=5,scaleFactor=1.1,minSize=(25,25))\n",
    "    left_eye = leye.detectMultiScale(gray)\n",
    "    right_eye =  reye.detectMultiScale(gray)\n",
    "\n",
    "    cv2.rectangle(frame, (0,height-50) , (200,height) , (0,0,0) , thickness=cv2.FILLED )\n",
    "\n",
    "    for (x,y,w,h) in faces:\n",
    "        cv2.rectangle(frame, (x,y) , (x+w,y+h) , (100,100,100) , 1 )\n",
    "\n",
    "    for (x,y,w,h) in right_eye:\n",
    "        r_eye=frame[y:y+h,x:x+w]\n",
    "        count=count+1\n",
    "        r_eye = cv2.cvtColor(r_eye,cv2.COLOR_BGR2GRAY)\n",
    "        r_eye = cv2.resize(r_eye,(24,24))\n",
    "        r_eye= r_eye/255\n",
    "        r_eye=  r_eye.reshape(24,24,-1)\n",
    "        r_eye = np.expand_dims(r_eye,axis=0)\n",
    "        rpred = np.argmax(model.predict(r_eye), axis=-1)\n",
    "        if(rpred[0]==1):\n",
    "            lbl='Open' \n",
    "        if(rpred[0]==0):\n",
    "            lbl='Closed'\n",
    "        break\n",
    "\n",
    "    for (x,y,w,h) in left_eye:\n",
    "        l_eye=frame[y:y+h,x:x+w]\n",
    "        count=count+1\n",
    "        l_eye = cv2.cvtColor(l_eye,cv2.COLOR_BGR2GRAY)  \n",
    "        l_eye = cv2.resize(l_eye,(24,24))\n",
    "        l_eye= l_eye/255\n",
    "        l_eye=l_eye.reshape(24,24,-1)\n",
    "        l_eye = np.expand_dims(l_eye,axis=0)\n",
    "#         lpred = model.predict(l_eye)\n",
    "        lpred = np.argmax(model.predict(l_eye), axis=-1)\n",
    "        if(lpred[0]==1):\n",
    "            lbl='Open'   \n",
    "        if(lpred[0]==0):\n",
    "            lbl='Closed'\n",
    "        break\n",
    "\n",
    "    if(rpred[0]==0 and lpred[0]==0):\n",
    "        score=score+1\n",
    "        cv2.putText(frame,\"Closed\",(10,height-20), font, 1,(255,255,255),1,cv2.LINE_AA)\n",
    "    # if(rpred[0]==1 or lpred[0]==1):\n",
    "    else:\n",
    "        score=score-1\n",
    "        cv2.putText(frame,\"Open\",(10,height-20), font, 1,(255,255,255),1,cv2.LINE_AA)\n",
    "    \n",
    "        \n",
    "    if(score<0):\n",
    "        score=0   \n",
    "    cv2.putText(frame,'Score:'+str(score),(100,height-20), font, 1,(255,255,255),1,cv2.LINE_AA)\n",
    "    if(score>15):\n",
    "        #person is feeling sleepy so we beep the alarm\n",
    "        cv2.imwrite(os.path.join(path,'image.jpg'),frame)\n",
    "        try:\n",
    "            sound.play()\n",
    "            sendemail()\n",
    "            \n",
    "        except:  # isplaying = False\n",
    "            pass\n",
    "        if(thicc<16):\n",
    "            thicc= thicc+2\n",
    "        else:\n",
    "            thicc=thicc-2\n",
    "            if(thicc<2):\n",
    "                thicc=2\n",
    "        cv2.rectangle(frame,(0,0),(width,height),(0,0,255),thicc) \n",
    "    cv2.imshow('frame',frame)\n",
    "    if cv2.waitKey(1) & 0xFF == ord('q'):\n",
    "        break\n",
    "cap.release()\n",
    "cv2.destroyAllWindows()"
   ]
  }
 ],
 "metadata": {
  "kernelspec": {
   "display_name": "Python 3 (ipykernel)",
   "language": "python",
   "name": "python3"
  },
  "language_info": {
   "codemirror_mode": {
    "name": "ipython",
    "version": 3
   },
   "file_extension": ".py",
   "mimetype": "text/x-python",
   "name": "python",
   "nbconvert_exporter": "python",
   "pygments_lexer": "ipython3",
   "version": "3.9.7"
  }
 },
 "nbformat": 4,
 "nbformat_minor": 5
}
